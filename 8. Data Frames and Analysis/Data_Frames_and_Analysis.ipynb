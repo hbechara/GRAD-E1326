{
  "nbformat": 4,
  "nbformat_minor": 0,
  "metadata": {
    "colab": {
      "provenance": [],
      "authorship_tag": "ABX9TyNTidv5oKwJAkF3aR5GlC2T",
      "include_colab_link": true
    },
    "kernelspec": {
      "name": "python3",
      "display_name": "Python 3"
    },
    "language_info": {
      "name": "python"
    }
  },
  "cells": [
    {
      "cell_type": "markdown",
      "metadata": {
        "id": "view-in-github",
        "colab_type": "text"
      },
      "source": [
        "<a href=\"https://colab.research.google.com/github/hbechara/GRAD-E1326/blob/main/8.%20Data%20Frames%20and%20Analysis/Data_Frames_and_Analysis.ipynb\" target=\"_parent\"><img src=\"https://colab.research.google.com/assets/colab-badge.svg\" alt=\"Open In Colab\"/></a>"
      ]
    },
    {
      "cell_type": "markdown",
      "source": [
        "## Installating and Importing"
      ],
      "metadata": {
        "id": "3bCuFsNIwVTE"
      }
    },
    {
      "cell_type": "code",
      "execution_count": null,
      "metadata": {
        "id": "JnODPen2wHk5"
      },
      "outputs": [],
      "source": [
        "!pip install pandas"
      ]
    },
    {
      "cell_type": "code",
      "source": [
        "import pandas as pd"
      ],
      "metadata": {
        "id": "DXASf5Tywgdb"
      },
      "execution_count": null,
      "outputs": []
    },
    {
      "cell_type": "markdown",
      "source": [
        "## Exercise 1\n",
        "\n",
        "Write a Pandas program to import excel data ([download](https://www.w3resource.com/python-exercises/pandas/excel/coalpublic2013.xlsx) ) into a dataframe.\n",
        "\n",
        "* display the last ten rows.\n",
        "* create a subtotal of \"Labor Hours\" against MSHA ID from the given excel data\n",
        "* find details where \"Labor Hours\" > 20000.\n",
        "* find all records that include two specific MSHA ID: 102976 and 103380"
      ],
      "metadata": {
        "id": "vmW0neHswexU"
      }
    },
    {
      "cell_type": "markdown",
      "source": [
        "## Exercise 2\n",
        "\n",
        "Write a Pandas program to import excel data ([download](https://)) into a dataframe.\n",
        "\n",
        "* import all 3 sheets and merge them into one dataframe\n",
        "* find a list of employees where hire_date> 01-01-07\n",
        "* sort the records by the hire_date column\n",
        "* convert the data to use the hire_date as the index\n",
        "\n"
      ],
      "metadata": {
        "id": "o4hBw7sexbjY"
      }
    },
    {
      "cell_type": "markdown",
      "source": [
        "[Solutions](https://colab.research.google.com/drive/1VsiTGj7F6zKd3fau4oI74wNk68dqqnCD?usp=sharing)"
      ],
      "metadata": {
        "id": "rozwYd48YjFy"
      }
    }
  ]
}